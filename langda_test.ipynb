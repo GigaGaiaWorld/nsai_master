{
 "cells": [
  {
   "cell_type": "code",
   "execution_count": 1,
   "id": "7843c3af",
   "metadata": {},
   "outputs": [],
   "source": [
    "from core import langda_solve"
   ]
  },
  {
   "cell_type": "code",
   "execution_count": 2,
   "id": "70ed28bf",
   "metadata": {},
   "outputs": [],
   "source": [
    "model = \"\"\"\n",
    "# Try langda solve:\n",
    "operation(X,Y,Z) :-\n",
    "    langda(LLM:\"X plus Y equals Z\",FUP:\"false\").\n",
    "\"\"\"\n",
    "additional_input = { \"config\": { \"configurable\": { \"thread_id\": \"42\" } },\"prefix\": \"\",\"langda_ext\": \"\"}"
   ]
  },
  {
   "cell_type": "code",
   "execution_count": 3,
   "id": "5136bfc4",
   "metadata": {},
   "outputs": [
    {
     "name": "stdout",
     "output_type": "stream",
     "text": [
      "### =========== processing init_node =========== ###\n",
      "{'C5731F2D': 'operation(X, Y, Z) :- Z is X + Y.'}\n",
      "[{'C5731F2D': 'operation(X, Y, Z) :- Z is X + Y.'}]\n",
      "processing _decide_next_init ...\n",
      "No langda needs to be updated, process end now...\n",
      "### =========== processing summary_node =========== ###\n",
      "*** test_result: ***\n",
      "\n",
      "Running problog_test_tool...\n",
      "Error evaluating Problog model:\n",
      "    toks = self.label_tokens(string, root_tokens)\n",
      "           ^^^^^^^^^^^^^^^^^^^^^^^^^^^^^^^^^^^^^^\n",
      "  File \"/Users/zhenzhili/miniforge3/envs/langda/lib/python3.11/site-packages/problog/parser.py\", line 1186, in label_tokens\n",
      "    raise ParseError(string, \"Expected binary operator\", t.location)\n",
      "problog.parser.ParseError: Expected binary operator at 1:2.\n",
      "{'C5731F2D': 'operation(X, Y, Z) :- Z is X + Y.'}\n",
      "*** Running_time: 0s, 0 rounds in total.\n",
      "# Try langda solve:\n",
      "operation(X,Y,Z) :-\n",
      " \n",
      " Z is X + Y.\n"
     ]
    }
   ],
   "source": [
    "result = langda_solve('simple',model,'deepseek-chat',additional_input=additional_input)\n",
    "\n",
    "print(result)"
   ]
  },
  {
   "cell_type": "code",
   "execution_count": 4,
   "id": "07677deb",
   "metadata": {},
   "outputs": [
    {
     "name": "stdout",
     "output_type": "stream",
     "text": [
      "# Try langda solve:\n",
      "operation(X,Y,Z) :-\n",
      " \n",
      " Z is X + Y.\n"
     ]
    }
   ],
   "source": [
    "print(result)"
   ]
  }
 ],
 "metadata": {
  "kernelspec": {
   "display_name": "langda",
   "language": "python",
   "name": "python3"
  },
  "language_info": {
   "codemirror_mode": {
    "name": "ipython",
    "version": 3
   },
   "file_extension": ".py",
   "mimetype": "text/x-python",
   "name": "python",
   "nbconvert_exporter": "python",
   "pygments_lexer": "ipython3",
   "version": "3.11.11"
  }
 },
 "nbformat": 4,
 "nbformat_minor": 5
}
