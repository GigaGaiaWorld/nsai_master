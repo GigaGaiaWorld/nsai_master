{
 "cells": [
  {
   "cell_type": "code",
   "execution_count": null,
   "id": "8ce75470",
   "metadata": {},
   "outputs": [],
   "source": [
    "import re\n",
    "def process_msg_from_bot(langda_ext:str) -> dict:\n",
    "    \"\"\"\n",
    "    I suppose the message from telegram bot is:\n",
    "    from telegram: \"!Secure: content about secure...\"   \n",
    "        ==> inside langda file: langda(LLM:\"/* Secure */\")  \n",
    "        ==> langda(LLM:\"content about secure..\")\n",
    "    \"\"\"\n",
    "    bot_pattern = r'!(\\w+):\\s*(.+)'\n",
    "    matches = re.findall(bot_pattern, langda_ext)\n",
    "    result_dict = dict(matches)\n",
    "\n",
    "    return result_dict\n",
    "\n",
    "langda_ext_dict = process_msg_from_bot(\"!Local: THIS IS THE TEXT\")\n",
    "raw_langda_dicts = [\n",
    "    {\"LLM\":\"/* Local */\",},\n",
    "    {\"LLM\":\"NoTHING\",}\n",
    "]\n",
    "for raw_langda_dict in raw_langda_dicts:\n",
    "    langda_ext_pattern = r'/\\*\\s*(\\w+)\\s*\\*/'\n",
    "    ext_match = re.search(langda_ext_pattern, raw_langda_dict[\"LLM\"])\n",
    "    if ext_match:\n",
    "        print(\"ext_match\",ext_match[1])\n",
    "\n",
    "        try:\n",
    "            raw_langda_dict[\"LLM\"] = langda_ext_dict[ext_match[1]]\n",
    "            print(\"raw_langda_dict[LLM]\",raw_langda_dict[\"LLM\"])\n",
    "            print(\"langda_ext_dict[ext_match]\",langda_ext_dict[ext_match[1]])\n",
    "        except:\n",
    "            print(\"NONONONONO\")"
   ]
  }
 ],
 "metadata": {
  "language_info": {
   "name": "python"
  }
 },
 "nbformat": 4,
 "nbformat_minor": 5
}
