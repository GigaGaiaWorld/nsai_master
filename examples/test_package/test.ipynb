{
 "cells": [
  {
   "cell_type": "code",
   "execution_count": null,
   "id": "c91f4ab0",
   "metadata": {},
   "outputs": [],
   "source": [
    "from langda import langda_solve, integrated_code_parser"
   ]
  },
  {
   "cell_type": "code",
   "execution_count": 2,
   "id": "58dad0a9",
   "metadata": {},
   "outputs": [
    {
     "name": "stdout",
     "output_type": "stream",
     "text": [
      "### =========== processing init_node =========== ###\n",
      "{'3F5BA02C': '% 1. Implication (A → B) holds if both A and B are provable\\nimplies(A, B) :- prove(A), prove(B).\\n\\n% 2. Opposite holds when the goal cannot be proved\\nopposite(Goal) :- \\\\+ prove(Goal).\\n\\n% 3. Expand term using predefined rules (clause/2 lookup)\\nexpand(Term, Result) :- clause(expand(Term, Result), Body), prove(Body).\\n\\n% 4. List inclusion via member/2\\nincludes(List, Elem) :- member(Elem, List).\\n\\n% 5. Extend list by prepending element\\nextend(List, Elem, [Elem|List]).\\n\\n% 6. Refutation (synonym for opposite)\\nrefute(Goal) :- \\\\+ prove(Goal).'}\n",
      "[{'AF680493': None}]\n",
      "processing _decide_next_init ...\n",
      "### =========== ### current round: 0 ### =========== ###\n",
      "### =========== processing generate_node =========== ###\n",
      "### =========== processing summary_node =========== ###\n",
      "*** test_result: ***\n",
      "\n",
      "Running problog_test_tool...\n",
      " ------------- result_lines ------------- \n",
      "\n",
      "{'AF680493': '0.3::rain.'}\n",
      "*** Running_time: 5s, 1 rounds in total.\n"
     ]
    },
    {
     "data": {
      "text/plain": [
       "'0.3::rain.'"
      ]
     },
     "execution_count": 2,
     "metadata": {},
     "output_type": "execute_result"
    }
   ],
   "source": [
    "langda_solve('simple',\"langda(LLM:'the probability of rain is 0.3')\",'deepseek-chat')"
   ]
  },
  {
   "cell_type": "code",
   "execution_count": null,
   "id": "cc5f7590",
   "metadata": {},
   "outputs": [],
   "source": [
    "# =============================== TEXTS FOR TESTING =============================== #\n",
    "full_text_for_parse_test = '''\n",
    "% =============================== % EXAMPLE % =============================== %\n",
    "lann(mnist_net1:\"decrib net1\",[M]:\"describe M\",N,[0,1,\"None\"]:\"desc someting\") :: event1(M,N). % lann(what?)\n",
    "lann(mnist_net2,[X],Y:\"what is Y?\",[2,3,\"dog\",\"horn\"]:\"output 2 and 3\")    % (what_is_this(X,S):maybe?\n",
    ":: funfunf(X,Y).     % have fun here)!\n",
    "\n",
    "lann(mnist_net3,       % net work haha\n",
    "[R],S:\"what whatwhaitsat?\",     % X and what Y: this Y! stop, lann(X,Y)\n",
    "[\"this\",\"thas\",\"was\",\"isss\"]:\"outoutoutout\")    % (what_e q2wre g wads  cf :: event114(X,Y).\n",
    ":: digit232(R,S).     % have fun here)!\n",
    "\n",
    "\n",
    "% UAV properties\n",
    "% initial_langda_content[i]ge ~ normal(90, 5).\n",
    "% langda_content[i]ge_cost ~ normal(-0.1, 0.2).\n",
    "% weight ~ normal(0.2, 0.1).\n",
    "\n",
    "% Weather conditions\n",
    "1/10::fog; 9/10::clear.\n",
    "\n",
    "% Visual line of sight\n",
    "vlos(X) :- \n",
    "    fog, distance(X, operator) < 50;\n",
    "    clear, distance(X, operator) < 100;\n",
    "    clear, over(X, bay), distance(X, operator) < 400.\n",
    "\n",
    "langda(ans:\"answer\",LLM:\"nothing\"). % langda(LLM:\"this is me\").\n",
    "% langda(X:\"answer\",LLM). % stop it\n",
    "langda(why:\"answer\",NET:\"[mlp(1,2,3,4,5,6)]\").\n",
    "langda(X:\"answer\",llm:\"stop\"). % why not here?\n",
    "/*\n",
    "% Sufficient langda_content[i]ge to return to operator\n",
    "can_return(X) :- \n",
    "    B is initial_langda_content[i]ge, O is langda_content[i]ge_cost,\n",
    "    D is distance(X, operator), 0 < B + (2 * O * D), langda(LLM:\"how about this?\")\n",
    "*/ langda(NET:\"[no(1,2,3)]\",LLM:\"This is crazy\")        .       waht_coin(sdaw,A) :- zzz(X;Y),\n",
    "langda(LLM,NET).\n",
    "\n",
    "% Permits related to local features\n",
    "permits(X) :- \n",
    "    distance(X, service) < 15; distance(X, primary) < 15;\n",
    "    distance(X, secondary) < 10; distance(X, tertiary) < 5;\n",
    "    distance(X, crossing) < 5; distance(X, rail) < 5;\n",
    "    over(X, park).\n",
    "\n",
    "valid_drone_flight(X) :- (langda(X:\"Return\",T,LLM:\"there's a high building at: (100,200)\",NET:\"[mnist_net1(0,1), mnist_net2(2,3)]\"), vlos(X));(can_return(X));langda(T:\"anstimewer\",NET).\n",
    "\n",
    "coin_win() :-\n",
    "    % the code need to be clean!\n",
    "    langda(X:\"return\", T:\"time\", NET:\"[mnist_net1(0,1), mnist_net2(2,3)]\",              % a langda code for new stuff\n",
    "    Y:\"happy\",              % why the code is happy?\n",
    "    TOL:\"[mnist_net1(0,1), mnist_net2(2,3)]\",              % wewewewewewewe\n",
    "    LLM:\"If the code difference is 2, % it returns 1, otherwise it returns 0.\")          % we use deepseek here!\n",
    "    ,permits(X), langda(X:\"return\", Y:\"fun\", Z:\"darmstadt\", NET:\"[position_net(there,here), audio(dog,child,horn)]\",     % nothing useful % so quit!\n",
    "    LLM:\"If the we is 2,            % comment end\n",
    "    and horn is there, we eat banana.\"). coin_this(X,Y,3) :- langda(X,LLM:\"asdasda\"),       % comment conisthis\n",
    "\n",
    "    predicate(sd, X), asd(MMMA)\n",
    "    . \n",
    "\n",
    "% Definition of a valid mission\n",
    "landscape(X) :- \n",
    "    vlos(X), weight < 25, can_return(X); \n",
    "    permits(X), can_return(X).\n",
    "\n",
    "'''\n",
    "\n",
    "\n",
    "# code, lann, langda = integrated_code_parser(\"\"\"ass(as(This:\"sss(sasa,asas).\")).\"\"\")\n",
    "code, lann, langda = integrated_code_parser(full_text_for_parse_test)\n",
    "print(code)"
   ]
  }
 ],
 "metadata": {
  "kernelspec": {
   "display_name": "langda",
   "language": "python",
   "name": "python3"
  },
  "language_info": {
   "codemirror_mode": {
    "name": "ipython",
    "version": 3
   },
   "file_extension": ".py",
   "mimetype": "text/x-python",
   "name": "python",
   "nbconvert_exporter": "python",
   "pygments_lexer": "ipython3",
   "version": "3.11.11"
  }
 },
 "nbformat": 4,
 "nbformat_minor": 5
}
