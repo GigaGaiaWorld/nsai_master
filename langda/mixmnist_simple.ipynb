{
 "cells": [
  {
   "cell_type": "code",
   "execution_count": 45,
   "id": "b94b1ed8",
   "metadata": {},
   "outputs": [],
   "source": [
    "from problog.program import PrologString\n",
    "from problog import get_evaluatable\n",
    "import os# define the arguments for the model:\n",
    "\n",
    "def get_model_files(date:str, model_name:str):\n",
    "    model_files = []\n",
    "    for root, dirs, files in os.walk(os.path.join(\"src/generated/models\", date)):\n",
    "        for file in files:\n",
    "            if file.startswith(\"prolog_model_\"+model_name+\"_\"):\n",
    "                model_files.append(os.path.join(root, file))\n",
    "\n",
    "    models_string_dir = {}\n",
    "    for file in model_files:\n",
    "        with open(file, 'r') as f:\n",
    "            models_string_dir[file] = f.read()\n",
    "    print(f\"Found {len(models_string_dir)}\")\n",
    "    return models_string_dir\n",
    "\n",
    "def get_single_model_file_with_path(model_path:str):\n",
    "\n",
    "    if os.path.isfile(model_path):\n",
    "        with open(model_path, 'r') as f:\n",
    "            model_string = f.read()\n",
    "    else:\n",
    "        print(f\"this file could not be found\")\n",
    "    return model_string\n",
    "\n",
    "def prolog_reasoning(model:str):\n",
    "    result = get_evaluatable().create_from(PrologString(model)).evaluate()\n",
    "    print(\"% ProbLog Inference Result：\")\n",
    "    for query_key, probability in result.items():\n",
    "        print(f\"{query_key} = {probability:.4f}\")"
   ]
  },
  {
   "cell_type": "code",
   "execution_count": null,
   "id": "93edd818",
   "metadata": {},
   "outputs": [],
   "source": [
    "model = \"\"\"\n",
    "\n",
    "\n",
    "\"\"\""
   ]
  },
  {
   "cell_type": "code",
   "execution_count": null,
   "id": "c16ccc5d",
   "metadata": {},
   "outputs": [
    {
     "name": "stdout",
     "output_type": "stream",
     "text": [
      "% ProbLog Inference Result：\n",
      "bangla_date(2025,5,20,1432,2,6) = 1.0000\n",
      "shaka_date(2025,5,20,1947,5,20) = 1.0000\n",
      "hijri_date(2025,5,20,1446,11,24) = 1.0000\n",
      "persian_date(2025,5,20,1552,49304,8) = 1.0000\n"
     ]
    }
   ],
   "source": [
    "prolog_reasoning(model_str)"
   ]
  }
 ],
 "metadata": {
  "kernelspec": {
   "display_name": "langda",
   "language": "python",
   "name": "python3"
  },
  "language_info": {
   "codemirror_mode": {
    "name": "ipython",
    "version": 3
   },
   "file_extension": ".py",
   "mimetype": "text/x-python",
   "name": "python",
   "nbconvert_exporter": "python",
   "pygments_lexer": "ipython3",
   "version": "3.11.11"
  }
 },
 "nbformat": 4,
 "nbformat_minor": 5
}
