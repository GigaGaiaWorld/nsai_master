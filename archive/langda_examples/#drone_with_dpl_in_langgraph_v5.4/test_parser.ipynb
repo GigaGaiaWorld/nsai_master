{
 "cells": [
  {
   "cell_type": "code",
   "execution_count": 6,
   "metadata": {},
   "outputs": [
    {
     "name": "stdout",
     "output_type": "stream",
     "text": [
      "\n",
      "    {{ LANGDA_ecf3153d }} :: digit(X,Y).\n",
      "    number([H|T],Acc,Result) :- {{ LANGDA_9d287b52 }}.\n",
      "\n",
      "\n",
      "    number([],Result,Result).\n",
      "    number([H|T],Acc,Result) :- {{ LANGDA_9d287b52 }}.\n",
      "    number(X,Y) :- number(X,0,Y).\n",
      "\n",
      "    multi_addition(X,Y,Z) :- {{ LANGDA_dbe8e018 }}.\n",
      "    addition(X,Y,Z) :- {{ LANGDA_14d66f3a }}.\n",
      "    \n"
     ]
    }
   ],
   "source": [
    "import re\n",
    "import hashlib\n",
    "import json\n",
    "from pathlib import Path\n",
    "\n",
    "def extract_and_replace():\n",
    "    \"\"\"\n",
    "    1. 读入 src_path（你的原始 .pl 文件）\n",
    "    2. 找到所有 lann(...) 和 langda(...)，替换成 {{LANGDA_<hash>}}\n",
    "    3. 把替换后的内容写到 tpl_path\n",
    "    4. 把 hash → 原始块 写到 map_path（JSON）\n",
    "    \"\"\"\n",
    "    src = \"\"\"\n",
    "    lann(mnist_net:\"mnist network\",[X],Y,[0,1,2,3,4,5,6,7,8,9]:\"pick the output from one of there value\") :: digit(X,Y).\n",
    "    number([H|T],Acc,Result) :- langda(NET:\"use mnist network\",LLM:\"Recursively process the image list: identify the digits one by one and construct the corresponding multi-bit integers in low-bit first order.\").\n",
    "\n",
    "\n",
    "    number([],Result,Result).\n",
    "    number([H|T],Acc,Result) :- langda(NET:\"use mnist network\",LLM:\"Recursively process the image list: identify the digits one by one and construct the corresponding multi-bit integers in low-bit first order.\").\n",
    "    number(X,Y) :- number(X,0,Y).\n",
    "\n",
    "    multi_addition(X,Y,Z) :- langda(NET:\"use mnist network\",LLM:\"Convert two sets of sequences consisting of digital pictures into integers and add them together to get the numerical result.\").\n",
    "    addition(X,Y,Z) :- langda(NET:\"use mnist network\",LLM:\"Use a neural network to identify the numbers in two pictures and then calculate their sum. Try to use X1 and X2 as term first\").\n",
    "    \"\"\"\n",
    "\n",
    "    # 匹配 lann(...) 或 langda(...)，不包括后面的 ::digit(...) 或句点\n",
    "    pattern = re.compile(r'(?P<full>(?:lann|langda)\\([^)]*\\))')\n",
    "\n",
    "    mapping = {}\n",
    "\n",
    "    def repl(m):\n",
    "        full = m.group('full') + '.'  # 保留句点\n",
    "        # 取前 8 位哈希\n",
    "        h = hashlib.md5(full.encode('utf-8')).hexdigest()[:8]\n",
    "        key = f'LANGDA_{h}'\n",
    "        mapping[key] = full\n",
    "        return f'{{{{ {key} }}}}'\n",
    "\n",
    "    tpl = pattern.sub(repl, src)\n",
    "    print(tpl)\n",
    "\n",
    "if __name__ == \"__main__\":\n",
    "    extract_and_replace(\n",
    "\n",
    "    )\n"
   ]
  },
  {
   "cell_type": "code",
   "execution_count": null,
   "metadata": {},
   "outputs": [],
   "source": [
    "    {{ LANGDA_ecf3153d }} :: digit(X,Y).\n",
    "\n",
    "\n",
    "    number([],Result,Result).\n",
    "    number([H|T],Acc,Result) :- {{ LANGDA_9d287b52 }}.\n",
    "    number(X,Y) :- number(X,0,Y).\n",
    "\n",
    "    multi_addition(X,Y,Z) :- {{ LANGDA_dbe8e018 }}.\n",
    "    addition(X,Y,Z) :- {{ LANGDA_14d66f3a }}.\n",
    "    "
   ]
  }
 ],
 "metadata": {
  "kernelspec": {
   "display_name": "langda",
   "language": "python",
   "name": "python3"
  },
  "language_info": {
   "codemirror_mode": {
    "name": "ipython",
    "version": 3
   },
   "file_extension": ".py",
   "mimetype": "text/x-python",
   "name": "python",
   "nbconvert_exporter": "python",
   "pygments_lexer": "ipython3",
   "version": "3.11.11"
  }
 },
 "nbformat": 4,
 "nbformat_minor": 2
}
