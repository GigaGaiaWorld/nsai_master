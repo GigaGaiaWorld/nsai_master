{
 "cells": [
  {
   "cell_type": "code",
   "execution_count": 45,
   "id": "b94b1ed8",
   "metadata": {},
   "outputs": [],
   "source": [
    "from problog.program import PrologString\n",
    "from problog import get_evaluatable\n",
    "import os# define the arguments for the model:\n",
    "\n",
    "def get_model_files(date:str, model_name:str):\n",
    "    model_files = []\n",
    "    for root, dirs, files in os.walk(os.path.join(\"src/generated/models\", date)):\n",
    "        for file in files:\n",
    "            if file.startswith(\"prolog_model_\"+model_name+\"_\"):\n",
    "                model_files.append(os.path.join(root, file))\n",
    "\n",
    "    models_string_dir = {}\n",
    "    for file in model_files:\n",
    "        with open(file, 'r') as f:\n",
    "            models_string_dir[file] = f.read()\n",
    "    print(f\"Found {len(models_string_dir)}\")\n",
    "    return models_string_dir\n",
    "\n",
    "def get_single_model_file_with_path(model_path:str):\n",
    "\n",
    "    if os.path.isfile(model_path):\n",
    "        with open(model_path, 'r') as f:\n",
    "            model_string = f.read()\n",
    "    else:\n",
    "        print(f\"this file could not be found\")\n",
    "    return model_string\n",
    "\n",
    "def prolog_reasoning(model:str):\n",
    "    result = get_evaluatable().create_from(PrologString(model)).evaluate()\n",
    "    print(\"% ProbLog Inference Result：\")\n",
    "    for query_key, probability in result.items():\n",
    "        print(f\"{query_key} = {probability:.4f}\")"
   ]
  },
  {
   "cell_type": "markdown",
   "id": "c96ece64",
   "metadata": {},
   "source": [
    "### Theme could be: World Travel\n",
    "A person/drone travels through different countries, but he is not good at math,\n",
    "He tries to solve math problems in the local language using traditional calculation methods"
   ]
  },
  {
   "cell_type": "code",
   "execution_count": 46,
   "id": "d682c32f",
   "metadata": {},
   "outputs": [],
   "source": [
    "model = [\"\"] * 10"
   ]
  },
  {
   "cell_type": "markdown",
   "id": "cf6cfa1b",
   "metadata": {},
   "source": [
    "#### Current Gregorian calendar date"
   ]
  },
  {
   "cell_type": "code",
   "execution_count": 47,
   "id": "c6881089",
   "metadata": {},
   "outputs": [],
   "source": [
    "model[0] = \"\"\"\n",
    "current_date(Year, Month, Day) :-\n",
    "    Year  > 0,\n",
    "    Month >= 1, Month =< 12,\n",
    "    Day   >= 1, Day   =< 31.\n",
    "\n",
    "gregorian_to_jdn(Y, M, D, JDN) :-\n",
    "    A is (14 - M) // 12,\n",
    "    Y1 is Y + 4800 - A,\n",
    "    M1 is M + 12*A - 3,\n",
    "    JDN is D\n",
    "        + ((153*M1 + 2)//5)\n",
    "        + 365*Y1\n",
    "        + Y1//4\n",
    "        - Y1//100\n",
    "        + Y1//400\n",
    "        - 32045.\n",
    "\"\"\""
   ]
  },
  {
   "cell_type": "markdown",
   "id": "999e0b5d",
   "metadata": {},
   "source": [
    "##### Bangla（孟加拉语）\n",
    "Uses the \"Bengali calendar\" (বঙ্গাব্দ), which has fixed date conversion rules with the Gregorian calendar."
   ]
  },
  {
   "cell_type": "code",
   "execution_count": 48,
   "id": "4b041460",
   "metadata": {},
   "outputs": [],
   "source": [
    "model[1] = \"\"\"\n",
    "bangla_date(GY,GM,GD,BY,BM,BD) :-\n",
    "    ( GM > 4 ; GM =:= 4, GD >= 14 ),    % on or after April 14\n",
    "    BY is GY - 593,\n",
    "    base_and_today_jdn(GY,GM,GD, J0, J),\n",
    "    Offset is J - J0,\n",
    "    bangla_month_day(Offset, BM, BD).\n",
    "\n",
    "bangla_date(GY,GM,GD,BY,BM,BD) :-\n",
    "    ( GM < 4 ; GM =:= 4, GD < 14 ),     % before April 14\n",
    "    BY is GY - 594,\n",
    "    base_and_today_jdn(GY,GM,GD, J0, J),\n",
    "    Offset is J - J0,\n",
    "    bangla_month_day(Offset, BM, BD).\n",
    "\n",
    "base_and_today_jdn(GY,GM,GD, J0, J) :-\n",
    "    gregorian_to_jdn(GY, 4, 14, J0),\n",
    "    gregorian_to_jdn(GY, GM, GD, J).\n",
    "\n",
    "bangla_month_day(Offset, BM, BD) :-\n",
    "    Offset < 31*5,\n",
    "    BM is Offset // 31 + 1,\n",
    "    BD is Offset mod 31 + 1.\n",
    "bangla_month_day(Offset, BM, BD) :-\n",
    "    Offset >= 31*5,\n",
    "    Off2 is Offset - 31*5,\n",
    "    BM is Off2 // 30 + 6,\n",
    "    BD is Off2 mod 30 + 1.\n",
    "\"\"\""
   ]
  },
  {
   "cell_type": "markdown",
   "id": "c66ebf50",
   "metadata": {},
   "source": [
    "##### Devanagari（天城文，常见于印地语等）\n",
    "Indian languages ​​(such as Hindi, Marathi, etc.) often use the Hindu calendar (Vikram Samvat, Shaka Samvat, etc.), which is a lunisolar calendar and needs to be converted according to the moon phase and the position of the sun."
   ]
  },
  {
   "cell_type": "code",
   "execution_count": 49,
   "id": "657f5dd9",
   "metadata": {},
   "outputs": [],
   "source": [
    "model[2] = \"\"\"\n",
    "shaka_date(GY,GM,GD,SY,SM,SD) :-\n",
    "    ( GM > 2 ; GM =:= 2, GD >= 22 ),\n",
    "    SY is GY - 78, SM = GM, SD = GD.\n",
    "shaka_date(GY,GM,GD,SY,SM,SD) :-\n",
    "    ( GM < 2 ; GM =:= 2, GD < 22 ),\n",
    "    SY is GY - 79, SM = GM, SD = GD.\n",
    "\"\"\""
   ]
  },
  {
   "cell_type": "markdown",
   "id": "833b47da",
   "metadata": {},
   "source": [
    "##### Arabic（阿拉伯语）\n",
    "Uses the Islamic calendar (Hijri), a pure lunar calendar, with 29 or 30 days per month, and a year that differs from the Gregorian calendar by about 11 days.\n"
   ]
  },
  {
   "cell_type": "markdown",
   "id": "365d5861",
   "metadata": {},
   "source": [
    "##### Urdu（乌尔都语）\n",
    "In the Muslim community, religious festivals are mostly counted according to the Islamic lunar calendar (Hijri)."
   ]
  },
  {
   "cell_type": "code",
   "execution_count": 50,
   "id": "cce05d22",
   "metadata": {},
   "outputs": [],
   "source": [
    "model[3] = \"\"\"\n",
    "hijri_date(GY,GM,GD,HY,HM,HD) :-\n",
    "    gregorian_to_jdn(GY, GM, GD, J),\n",
    "    Days is J - 1948439,    % Hijri epoch JDN(1 Muharram,1AH)\n",
    "    HY   is (30*Days + 10646) // 10631,\n",
    "    Hijri1 is (HY-1)*354 + ((3 + 11*(HY-1))//30) + 1948439,\n",
    "    DOY  is J - Hijri1 + 1,\n",
    "    hijri_month_day(DOY, 1, HM, HD).\n",
    "\n",
    "% 月长：奇月30天，偶月29天\n",
    "month_length(M, 30) :-  1 is M mod 2.\n",
    "month_length(M, 29) :-  0 is M mod 2.\n",
    "\n",
    "hijri_month_day(Day, M, M, Day) :-\n",
    "    month_length(M, L),\n",
    "    Day =< L.\n",
    "hijri_month_day(Day, M, HM, HD) :-\n",
    "    month_length(M, L),\n",
    "    Day > L,\n",
    "    Day1 is Day - L,\n",
    "    M1 is M + 1,\n",
    "    hijri_month_day(Day1, M1, HM, HD).\n",
    "\"\"\""
   ]
  },
  {
   "cell_type": "markdown",
   "id": "339a71c0",
   "metadata": {},
   "source": [
    "##### Farsi（波斯语）\n",
    "Uses the Persian solar calendar (Solar Hijri), with the spring equinox as the beginning of the year, and needs to be accurately converted with the Gregorian calendar."
   ]
  },
  {
   "cell_type": "code",
   "execution_count": 51,
   "id": "b80b9dc4",
   "metadata": {},
   "outputs": [],
   "source": [
    "model[4] = \"\"\"\n",
    "% 判断闰年\n",
    "leap_persian(Y) :-\n",
    "    Rem is (Y*682) mod 2816,\n",
    "    Rem < 682.\n",
    "\n",
    "% 月/日分解：前186天31天/月，后180天30天/月\n",
    "persian_month_day(DOY, PM, PD) :-\n",
    "    DOY =< 186,\n",
    "    PM is ((DOY - 1) // 31) + 1,\n",
    "    PD is ((DOY - 1) mod 31) + 1.\n",
    "persian_month_day(DOY, PM, PD) :-\n",
    "    DOY > 186,\n",
    "    Off is DOY - 186,\n",
    "    PM is ((Off - 1) // 30) + 7,\n",
    "    PD is ((Off - 1) mod 30) + 1.\n",
    "\n",
    "% 计算上一波斯年总天数（365 或 366）\n",
    "prev_year_length(PY, Length) :-\n",
    "    Prev is PY - 1,\n",
    "    leap_persian(Prev),\n",
    "    Length is 366.\n",
    "prev_year_length(PY, Length) :-\n",
    "    Prev is PY - 1,\n",
    "    \\+ leap_persian(Prev),\n",
    "    Length is 365.\n",
    "\n",
    "% 波斯太阳历主谓词：春分 JNew 后\n",
    "persian_date(GY,GM,GD,PY,PM,PD) :-\n",
    "    gregorian_to_jdn(GY,GM,GD,J),\n",
    "    EpBase is GY - 474,\n",
    "    EpYear is 474 + (EpBase mod 2820),\n",
    "    March1 is 365*EpYear + EpYear//4 - EpYear//128 + EpYear//2820,\n",
    "    JNew   is March1 + 226895 + (31*(EpYear*682 - 110))//2816,\n",
    "    J >= JNew,\n",
    "    PY is EpBase mod 2820 + 1,\n",
    "    J1 is JNew,\n",
    "    DOY is J - J1 + 1,\n",
    "    persian_month_day(DOY, PM, PD).\n",
    "\n",
    "% 波斯太阳历主谓词：春分 JNew 前\n",
    "persian_date(GY,GM,GD,PY,PM,PD) :-\n",
    "    gregorian_to_jdn(GY,GM,GD,J),\n",
    "    EpBase is GY - 474,\n",
    "    EpYear is 474 + (EpBase mod 2820),\n",
    "    March1 is 365*EpYear + EpYear//4 - EpYear//128 + EpYear//2820,\n",
    "    JNew   is March1 + 226895 + (31*(EpYear*682 - 110))//2816,\n",
    "    J < JNew,\n",
    "    PY is EpBase mod 2820,\n",
    "    prev_year_length(PY, TotalDays),\n",
    "    J1 is JNew - TotalDays,\n",
    "    DOY is J - J1 + 1,\n",
    "    persian_month_day(DOY, PM, PD).\n",
    "\n",
    "\"\"\""
   ]
  },
  {
   "cell_type": "markdown",
   "id": "9d7fc248",
   "metadata": {},
   "source": [
    "##### Telugu（泰卢固语）\n",
    "Uses the Telugu calendar, which is also based on the Hindu lunisolar calendar system."
   ]
  },
  {
   "cell_type": "markdown",
   "id": "b4e272cc",
   "metadata": {},
   "source": [
    "##### Kannada（卡纳达语）\n",
    "Uses the Kannada calendar, which is also a lunisolar calendar of India."
   ]
  },
  {
   "cell_type": "markdown",
   "id": "48bcf546",
   "metadata": {},
   "source": [
    "##### Tibetan（藏语）\n",
    "Uses the Tibetan calendar, which is based on the lunar cycle and supplemented by the solar year, and has its own set of intercalary month and leap month rules."
   ]
  },
  {
   "cell_type": "markdown",
   "id": "8fe18d48",
   "metadata": {},
   "source": [
    "Not achievable, requires astronomical algorithms"
   ]
  },
  {
   "cell_type": "code",
   "execution_count": 52,
   "id": "df151d94",
   "metadata": {},
   "outputs": [],
   "source": [
    "model[5] = \"\"\"\"\"\"\n",
    "model[6] = \"\"\"\"\"\"\n",
    "model[7] = \"\"\"\"\"\""
   ]
  },
  {
   "cell_type": "code",
   "execution_count": 53,
   "id": "a9603fda",
   "metadata": {},
   "outputs": [],
   "source": [
    "queries = \"\"\"\n",
    "query(bangla_date(2025, 5, 20, BY, BM, BD)).\n",
    "query(shaka_date(2025, 5, 20, SY, SM, SD)).\n",
    "query(hijri_date(2025,5,20,HY,HM,HD)).\n",
    "query(persian_date(2025,5,20,PY,PM,PD)).\n",
    "\"\"\"\n",
    "model_str = \"\\n\".join(model) + queries"
   ]
  },
  {
   "cell_type": "code",
   "execution_count": null,
   "id": "c16ccc5d",
   "metadata": {},
   "outputs": [
    {
     "name": "stdout",
     "output_type": "stream",
     "text": [
      "% ProbLog Inference Result：\n",
      "bangla_date(2025,5,20,1432,2,6) = 1.0000\n",
      "shaka_date(2025,5,20,1947,5,20) = 1.0000\n",
      "hijri_date(2025,5,20,1446,11,24) = 1.0000\n",
      "persian_date(2025,5,20,1552,49304,8) = 1.0000\n"
     ]
    }
   ],
   "source": [
    "prolog_reasoning(model_str)"
   ]
  }
 ],
 "metadata": {
  "kernelspec": {
   "display_name": "langda",
   "language": "python",
   "name": "python3"
  },
  "language_info": {
   "codemirror_mode": {
    "name": "ipython",
    "version": 3
   },
   "file_extension": ".py",
   "mimetype": "text/x-python",
   "name": "python",
   "nbconvert_exporter": "python",
   "pygments_lexer": "ipython3",
   "version": "3.11.11"
  }
 },
 "nbformat": 4,
 "nbformat_minor": 5
}
